{
 "cells": [
  {
   "cell_type": "markdown",
   "metadata": {},
   "source": [
    "<h1>Titanic: Machine Learning from Disaster</h1>\n",
    "<h2>Investigando um conjunto de dados</h2>\n",
    "\n",
    "<p>Para este projeto foi utilizado o arquivo que representa o conjunto de dados de treinamento</p>\n",
    "<p>O conjunto de treinamento deve ser usado para construir seus modelos de aprendizado de máquina. Para o conjunto de treinamento, fornecemos o resultado (também conhecido como a “verdade fundamental”) para cada passageiro. Seu modelo será baseado em \"recursos\" como gênero e classe de passageiros.</p>\n",
    "<p>Para navegar pelas diversas partes que compõe este projeto use os links a seguir</p>\n",
    "<ol>\n",
    "    <li><a href=\"#inicio\">Iniciando o projeto</a></li>\n",
    "    <li><a href=\"#segundo\">Avaliando intituitivamente os dados</a></li>\n",
    "    <li><a href=\"#terceiro\">Limpando os dados</a></li>\n",
    "    <li><a href=\"#quarto\">Visualização dos dados</a></li>\n",
    "    <li><a href=\"#quinto\">Analisando dados</a></li>\n",
    "    <li><a href=\"#sexto\">Conclusão</a></li>\n",
    "</ol>\n",
    "<p>Perguntas feitas à análise</p>\n",
    "<ul>\n",
    "    <li>A idade do passageiro teve influência na sua taxa de sobrevivência?</li>\n",
    "    <li>O gênero do passageiro teve influência na sua taxa de sobrevivência?</li>\n",
    "    <li>A classe social do passageiro teve influência na sua taxa de sobrevivência?</li>\n",
    "    <li>O porto de embarcação do passageiro teve influência na sua taxa de sobrevivência?</li>\n",
    "</ul>"
   ]
  },
  {
   "cell_type": "markdown",
   "metadata": {},
   "source": [
    "<h2><a name=\"inicio\">1. Iniciando o projeto</a></h2>\n",
    "<p>Na células a seguir são importadas as bibliotecas a serem utilizadas em seguida uma breve visualização destes dados é realizada</p>\n",
    "<p>A visualização dos dados é tabular e limitada aos cinco primeiros registros, porém antes de o fazê-lo, é criado o Data Frame para os dados que serão analisados</p>"
   ]
  },
  {
   "cell_type": "code",
   "execution_count": 5,
   "metadata": {},
   "outputs": [],
   "source": [
    "import pandas as pd\n",
    "import matplotlib.pyplot as plt\n",
    "%matplotlib inline"
   ]
  },
  {
   "cell_type": "code",
   "execution_count": 6,
   "metadata": {},
   "outputs": [
    {
     "data": {
      "text/html": [
       "<div>\n",
       "<style scoped>\n",
       "    .dataframe tbody tr th:only-of-type {\n",
       "        vertical-align: middle;\n",
       "    }\n",
       "\n",
       "    .dataframe tbody tr th {\n",
       "        vertical-align: top;\n",
       "    }\n",
       "\n",
       "    .dataframe thead th {\n",
       "        text-align: right;\n",
       "    }\n",
       "</style>\n",
       "<table border=\"1\" class=\"dataframe\">\n",
       "  <thead>\n",
       "    <tr style=\"text-align: right;\">\n",
       "      <th></th>\n",
       "      <th>PassengerId</th>\n",
       "      <th>Survived</th>\n",
       "      <th>Pclass</th>\n",
       "      <th>Name</th>\n",
       "      <th>Sex</th>\n",
       "      <th>Age</th>\n",
       "      <th>SibSp</th>\n",
       "      <th>Parch</th>\n",
       "      <th>Ticket</th>\n",
       "      <th>Fare</th>\n",
       "      <th>Cabin</th>\n",
       "      <th>Embarked</th>\n",
       "    </tr>\n",
       "  </thead>\n",
       "  <tbody>\n",
       "    <tr>\n",
       "      <th>0</th>\n",
       "      <td>1</td>\n",
       "      <td>0</td>\n",
       "      <td>3</td>\n",
       "      <td>Braund, Mr. Owen Harris</td>\n",
       "      <td>male</td>\n",
       "      <td>22.0</td>\n",
       "      <td>1</td>\n",
       "      <td>0</td>\n",
       "      <td>A/5 21171</td>\n",
       "      <td>7.2500</td>\n",
       "      <td>NaN</td>\n",
       "      <td>S</td>\n",
       "    </tr>\n",
       "    <tr>\n",
       "      <th>1</th>\n",
       "      <td>2</td>\n",
       "      <td>1</td>\n",
       "      <td>1</td>\n",
       "      <td>Cumings, Mrs. John Bradley (Florence Briggs Th...</td>\n",
       "      <td>female</td>\n",
       "      <td>38.0</td>\n",
       "      <td>1</td>\n",
       "      <td>0</td>\n",
       "      <td>PC 17599</td>\n",
       "      <td>71.2833</td>\n",
       "      <td>C85</td>\n",
       "      <td>C</td>\n",
       "    </tr>\n",
       "    <tr>\n",
       "      <th>2</th>\n",
       "      <td>3</td>\n",
       "      <td>1</td>\n",
       "      <td>3</td>\n",
       "      <td>Heikkinen, Miss. Laina</td>\n",
       "      <td>female</td>\n",
       "      <td>26.0</td>\n",
       "      <td>0</td>\n",
       "      <td>0</td>\n",
       "      <td>STON/O2. 3101282</td>\n",
       "      <td>7.9250</td>\n",
       "      <td>NaN</td>\n",
       "      <td>S</td>\n",
       "    </tr>\n",
       "    <tr>\n",
       "      <th>3</th>\n",
       "      <td>4</td>\n",
       "      <td>1</td>\n",
       "      <td>1</td>\n",
       "      <td>Futrelle, Mrs. Jacques Heath (Lily May Peel)</td>\n",
       "      <td>female</td>\n",
       "      <td>35.0</td>\n",
       "      <td>1</td>\n",
       "      <td>0</td>\n",
       "      <td>113803</td>\n",
       "      <td>53.1000</td>\n",
       "      <td>C123</td>\n",
       "      <td>S</td>\n",
       "    </tr>\n",
       "    <tr>\n",
       "      <th>4</th>\n",
       "      <td>5</td>\n",
       "      <td>0</td>\n",
       "      <td>3</td>\n",
       "      <td>Allen, Mr. William Henry</td>\n",
       "      <td>male</td>\n",
       "      <td>35.0</td>\n",
       "      <td>0</td>\n",
       "      <td>0</td>\n",
       "      <td>373450</td>\n",
       "      <td>8.0500</td>\n",
       "      <td>NaN</td>\n",
       "      <td>S</td>\n",
       "    </tr>\n",
       "  </tbody>\n",
       "</table>\n",
       "</div>"
      ],
      "text/plain": [
       "   PassengerId  Survived  Pclass  \\\n",
       "0            1         0       3   \n",
       "1            2         1       1   \n",
       "2            3         1       3   \n",
       "3            4         1       1   \n",
       "4            5         0       3   \n",
       "\n",
       "                                                Name     Sex   Age  SibSp  \\\n",
       "0                            Braund, Mr. Owen Harris    male  22.0      1   \n",
       "1  Cumings, Mrs. John Bradley (Florence Briggs Th...  female  38.0      1   \n",
       "2                             Heikkinen, Miss. Laina  female  26.0      0   \n",
       "3       Futrelle, Mrs. Jacques Heath (Lily May Peel)  female  35.0      1   \n",
       "4                           Allen, Mr. William Henry    male  35.0      0   \n",
       "\n",
       "   Parch            Ticket     Fare Cabin Embarked  \n",
       "0      0         A/5 21171   7.2500   NaN        S  \n",
       "1      0          PC 17599  71.2833   C85        C  \n",
       "2      0  STON/O2. 3101282   7.9250   NaN        S  \n",
       "3      0            113803  53.1000  C123        S  \n",
       "4      0            373450   8.0500   NaN        S  "
      ]
     },
     "execution_count": 6,
     "metadata": {},
     "output_type": "execute_result"
    }
   ],
   "source": [
    "df_titanic = pd.read_csv('titanic-data-6.csv')\n",
    "df_titanic.head()"
   ]
  },
  {
   "cell_type": "markdown",
   "metadata": {},
   "source": [
    "<p>Abaixo é construido uma visualização de quais as colunas que compõe o conjunto de dados</p>"
   ]
  },
  {
   "cell_type": "code",
   "execution_count": 7,
   "metadata": {},
   "outputs": [
    {
     "name": "stdout",
     "output_type": "stream",
     "text": [
      "0 - PassengerId\n",
      "1 - Survived\n",
      "2 - Pclass\n",
      "3 - Name\n",
      "4 - Sex\n",
      "5 - Age\n",
      "6 - SibSp\n",
      "7 - Parch\n",
      "8 - Ticket\n",
      "9 - Fare\n",
      "10 - Cabin\n",
      "11 - Embarked\n"
     ]
    }
   ],
   "source": [
    "for index, column in enumerate(df_titanic.columns):\n",
    "    print(str(index) + ' - ' + str(column))"
   ]
  },
  {
   "cell_type": "markdown",
   "metadata": {},
   "source": [
    "<p>Extraindo do site <a href=\"https://www.kaggle.com/c/titanic/data\" target=\"_blank\">kaggle</a> os dados acima correspondem da seguinte forma</p>\n",
    "<pre>\n",
    "0 - PassengerId        = Id do Passageiro\n",
    "1 - Survived           = Sobrevivência                                  (<i>0 = não, 1 = sim</i>)\n",
    "2 - Pclass             = Classe de bilhetes                             (<i>1 = primeiro, 2 = segundo, 3 = terceiro</i>)\n",
    "3 - Name               = Nome\n",
    "4 - Sex                = Gênero\n",
    "5 - Age                = Idade\n",
    "6 - SibSp              = Número de irmãos / cônjuges a bordo do Titanic\n",
    "7 - Parch              = Número de pais / filhos a bordo do Titanic\n",
    "8 - Ticket             = Bilhete\n",
    "9 - Fare               = Tarifa de passageiro\n",
    "10 - Cabin             = Número da cabine\n",
    "11 - Embarked          = Porto de embarcação                            (<i>C = Cherbourg, Q = Queenstown, S = Southampton</i>)\n",
    "</pre>\n",
    "<p>Outras informações complementares para o conjunto de dados</p>\n",
    "<ul>\n",
    "    <li><strong>Pclass:</strong> Uma proxy para status socioeconômico (SES) \n",
    "        <ul><li>1a = Alta</li>\n",
    "            <li>2a = Média</li>\n",
    "            <li>3a = Menor</li>\n",
    "        </ul>\n",
    "    </li>\n",
    "    <li><strong>Age:</strong> A idade é fracionária se menor que 1. Se a idade é estimada, é na forma de xx.5</li>\n",
    "    <li><strong>SibSp:</strong> O conjunto de dados define relações familiares desta forma ... \n",
    "        <ul><li>Irmão = irmã, irmão, meio-irmão, irmã adotiva</li> \n",
    "            <li>Esposa = marido, esposa (amantes e noivas foram ignorados)</li>\n",
    "        </ul>\n",
    "    </li>\n",
    "    <li><strong>Parch:</strong> O conjunto de dados define as relações familiares desta forma... \n",
    "        <ul><li>Pai = mãe, pai</li>\n",
    "            <li>Criança = filha, filho, enteada, enteado</li>\n",
    "            <li>Algumas crianças viajavam apenas com uma babá, portanto parch = 0 para elas.</li>\n",
    "        </ul>\n",
    "    </li>\n",
    "</ul>"
   ]
  },
  {
   "cell_type": "markdown",
   "metadata": {},
   "source": [
    "<h2><a name=\"segundo\">2. Avaliando intituitivamente os dados</a></h2>\n",
    "<p>A partir deste ponto a biblioteca <a href=\"https://pandas.pydata.org/\" target=\"_blank\">Pandas</a> será utilizada para explorar os dados</p>"
   ]
  },
  {
   "cell_type": "markdown",
   "metadata": {},
   "source": [
    "<p>Obtém uma tupla com as dimensões do <i>Data Frame</i> explorado no formato (número de linhas, número de colunas)</p>"
   ]
  },
  {
   "cell_type": "code",
   "execution_count": 8,
   "metadata": {},
   "outputs": [
    {
     "data": {
      "text/plain": [
       "(891, 12)"
      ]
     },
     "execution_count": 8,
     "metadata": {},
     "output_type": "execute_result"
    }
   ],
   "source": [
    "df_titanic.shape"
   ]
  },
  {
   "cell_type": "markdown",
   "metadata": {},
   "source": [
    "<p>Obtém o tipo de dados de cada coluna do <i>Data Frame</i></p>\n",
    "<p>A principio os tipos de dados e a amostra observada acima demonstra que não há uma necessidade de converção entre tipos de dados</p>"
   ]
  },
  {
   "cell_type": "code",
   "execution_count": 9,
   "metadata": {},
   "outputs": [
    {
     "data": {
      "text/plain": [
       "PassengerId      int64\n",
       "Survived         int64\n",
       "Pclass           int64\n",
       "Name            object\n",
       "Sex             object\n",
       "Age            float64\n",
       "SibSp            int64\n",
       "Parch            int64\n",
       "Ticket          object\n",
       "Fare           float64\n",
       "Cabin           object\n",
       "Embarked        object\n",
       "dtype: object"
      ]
     },
     "execution_count": 9,
     "metadata": {},
     "output_type": "execute_result"
    }
   ],
   "source": [
    "df_titanic.dtypes"
   ]
  },
  {
   "cell_type": "markdown",
   "metadata": {},
   "source": [
    "<p>Obtém um resumo do <i>Data Frame</i>, sendo possível observar a distriuição de registros nulos e não-nulos</p>\n",
    "<p>A ausência de registros para as colunas <strong>Age</strong>, <strong>Cabin</strong> e <strong>Embarked</strong> podem vir a atrapalhar a analise do dados e posteriormente devem ser trabalhados adequadamente</p>"
   ]
  },
  {
   "cell_type": "code",
   "execution_count": 10,
   "metadata": {},
   "outputs": [
    {
     "name": "stdout",
     "output_type": "stream",
     "text": [
      "<class 'pandas.core.frame.DataFrame'>\n",
      "RangeIndex: 891 entries, 0 to 890\n",
      "Data columns (total 12 columns):\n",
      "PassengerId    891 non-null int64\n",
      "Survived       891 non-null int64\n",
      "Pclass         891 non-null int64\n",
      "Name           891 non-null object\n",
      "Sex            891 non-null object\n",
      "Age            714 non-null float64\n",
      "SibSp          891 non-null int64\n",
      "Parch          891 non-null int64\n",
      "Ticket         891 non-null object\n",
      "Fare           891 non-null float64\n",
      "Cabin          204 non-null object\n",
      "Embarked       889 non-null object\n",
      "dtypes: float64(2), int64(5), object(5)\n",
      "memory usage: 83.6+ KB\n"
     ]
    }
   ],
   "source": [
    "df_titanic.info()"
   ]
  },
  {
   "cell_type": "markdown",
   "metadata": {},
   "source": [
    "<p>Obtém o número de valores unicos por coluna no <i>Data Frame</i></p>"
   ]
  },
  {
   "cell_type": "code",
   "execution_count": 11,
   "metadata": {},
   "outputs": [
    {
     "data": {
      "text/plain": [
       "PassengerId    891\n",
       "Survived         2\n",
       "Pclass           3\n",
       "Name           891\n",
       "Sex              2\n",
       "Age             88\n",
       "SibSp            7\n",
       "Parch            7\n",
       "Ticket         681\n",
       "Fare           248\n",
       "Cabin          147\n",
       "Embarked         3\n",
       "dtype: int64"
      ]
     },
     "execution_count": 11,
     "metadata": {},
     "output_type": "execute_result"
    }
   ],
   "source": [
    "df_titanic.nunique()"
   ]
  },
  {
   "cell_type": "markdown",
   "metadata": {},
   "source": [
    "<p>Abaixo faremos verificações para saber se os dados unicos de determinadas colunas correspondem ao que foi informado no dicionário de dados que foi apresentado anteriormente</p>"
   ]
  },
  {
   "cell_type": "code",
   "execution_count": 12,
   "metadata": {},
   "outputs": [
    {
     "data": {
      "text/plain": [
       "{0, 1}"
      ]
     },
     "execution_count": 12,
     "metadata": {},
     "output_type": "execute_result"
    }
   ],
   "source": [
    "set(df_titanic['Survived'])"
   ]
  },
  {
   "cell_type": "code",
   "execution_count": 13,
   "metadata": {},
   "outputs": [
    {
     "data": {
      "text/plain": [
       "{1, 2, 3}"
      ]
     },
     "execution_count": 13,
     "metadata": {},
     "output_type": "execute_result"
    }
   ],
   "source": [
    "set(df_titanic['Pclass'])"
   ]
  },
  {
   "cell_type": "code",
   "execution_count": 14,
   "metadata": {},
   "outputs": [
    {
     "data": {
      "text/plain": [
       "{'C', 'Q', 'S', nan}"
      ]
     },
     "execution_count": 14,
     "metadata": {},
     "output_type": "execute_result"
    }
   ],
   "source": [
    "set(df_titanic['Embarked'])"
   ]
  },
  {
   "cell_type": "markdown",
   "metadata": {},
   "source": [
    "<p>Podemos observar que os valores correspondem ao do dicionário, porém a última célula revela que temos a presença de um valor nulo, este caso será tratado posteriormente</p>\n",
    "<p>Seguindo o entendimento acima, iremos repetir o código para outras colunas para investigar melhor a composição das instâncias do <i>Data Frame</i></p>"
   ]
  },
  {
   "cell_type": "code",
   "execution_count": 15,
   "metadata": {},
   "outputs": [
    {
     "data": {
      "text/plain": [
       "{'female', 'male'}"
      ]
     },
     "execution_count": 15,
     "metadata": {},
     "output_type": "execute_result"
    }
   ],
   "source": [
    "set(df_titanic['Sex'])"
   ]
  },
  {
   "cell_type": "code",
   "execution_count": 16,
   "metadata": {},
   "outputs": [
    {
     "data": {
      "text/plain": [
       "{0, 1, 2, 3, 4, 5, 8}"
      ]
     },
     "execution_count": 16,
     "metadata": {},
     "output_type": "execute_result"
    }
   ],
   "source": [
    "set(df_titanic['SibSp'])"
   ]
  },
  {
   "cell_type": "code",
   "execution_count": 17,
   "metadata": {},
   "outputs": [
    {
     "data": {
      "text/plain": [
       "{0, 1, 2, 3, 4, 5, 6}"
      ]
     },
     "execution_count": 17,
     "metadata": {},
     "output_type": "execute_result"
    }
   ],
   "source": [
    "set(df_titanic['Parch'])"
   ]
  },
  {
   "cell_type": "markdown",
   "metadata": {},
   "source": [
    "<p>Obtém estatísticas descritivas do conjunto de dados</p>\n",
    "<p>Observe que até aqui está notório que o <i>Data Frame</i> tem sua composuição disforme, isto será tratado adequadamente posteriormente, no entanto, a execução deste ponto foi para fazer comparativo após o tratamento dos dados</p>"
   ]
  },
  {
   "cell_type": "code",
   "execution_count": 18,
   "metadata": {},
   "outputs": [
    {
     "data": {
      "text/html": [
       "<div>\n",
       "<style scoped>\n",
       "    .dataframe tbody tr th:only-of-type {\n",
       "        vertical-align: middle;\n",
       "    }\n",
       "\n",
       "    .dataframe tbody tr th {\n",
       "        vertical-align: top;\n",
       "    }\n",
       "\n",
       "    .dataframe thead th {\n",
       "        text-align: right;\n",
       "    }\n",
       "</style>\n",
       "<table border=\"1\" class=\"dataframe\">\n",
       "  <thead>\n",
       "    <tr style=\"text-align: right;\">\n",
       "      <th></th>\n",
       "      <th>PassengerId</th>\n",
       "      <th>Survived</th>\n",
       "      <th>Pclass</th>\n",
       "      <th>Age</th>\n",
       "      <th>SibSp</th>\n",
       "      <th>Parch</th>\n",
       "      <th>Fare</th>\n",
       "    </tr>\n",
       "  </thead>\n",
       "  <tbody>\n",
       "    <tr>\n",
       "      <th>count</th>\n",
       "      <td>891.000000</td>\n",
       "      <td>891.000000</td>\n",
       "      <td>891.000000</td>\n",
       "      <td>714.000000</td>\n",
       "      <td>891.000000</td>\n",
       "      <td>891.000000</td>\n",
       "      <td>891.000000</td>\n",
       "    </tr>\n",
       "    <tr>\n",
       "      <th>mean</th>\n",
       "      <td>446.000000</td>\n",
       "      <td>0.383838</td>\n",
       "      <td>2.308642</td>\n",
       "      <td>29.699118</td>\n",
       "      <td>0.523008</td>\n",
       "      <td>0.381594</td>\n",
       "      <td>32.204208</td>\n",
       "    </tr>\n",
       "    <tr>\n",
       "      <th>std</th>\n",
       "      <td>257.353842</td>\n",
       "      <td>0.486592</td>\n",
       "      <td>0.836071</td>\n",
       "      <td>14.526497</td>\n",
       "      <td>1.102743</td>\n",
       "      <td>0.806057</td>\n",
       "      <td>49.693429</td>\n",
       "    </tr>\n",
       "    <tr>\n",
       "      <th>min</th>\n",
       "      <td>1.000000</td>\n",
       "      <td>0.000000</td>\n",
       "      <td>1.000000</td>\n",
       "      <td>0.420000</td>\n",
       "      <td>0.000000</td>\n",
       "      <td>0.000000</td>\n",
       "      <td>0.000000</td>\n",
       "    </tr>\n",
       "    <tr>\n",
       "      <th>25%</th>\n",
       "      <td>223.500000</td>\n",
       "      <td>0.000000</td>\n",
       "      <td>2.000000</td>\n",
       "      <td>20.125000</td>\n",
       "      <td>0.000000</td>\n",
       "      <td>0.000000</td>\n",
       "      <td>7.910400</td>\n",
       "    </tr>\n",
       "    <tr>\n",
       "      <th>50%</th>\n",
       "      <td>446.000000</td>\n",
       "      <td>0.000000</td>\n",
       "      <td>3.000000</td>\n",
       "      <td>28.000000</td>\n",
       "      <td>0.000000</td>\n",
       "      <td>0.000000</td>\n",
       "      <td>14.454200</td>\n",
       "    </tr>\n",
       "    <tr>\n",
       "      <th>75%</th>\n",
       "      <td>668.500000</td>\n",
       "      <td>1.000000</td>\n",
       "      <td>3.000000</td>\n",
       "      <td>38.000000</td>\n",
       "      <td>1.000000</td>\n",
       "      <td>0.000000</td>\n",
       "      <td>31.000000</td>\n",
       "    </tr>\n",
       "    <tr>\n",
       "      <th>max</th>\n",
       "      <td>891.000000</td>\n",
       "      <td>1.000000</td>\n",
       "      <td>3.000000</td>\n",
       "      <td>80.000000</td>\n",
       "      <td>8.000000</td>\n",
       "      <td>6.000000</td>\n",
       "      <td>512.329200</td>\n",
       "    </tr>\n",
       "  </tbody>\n",
       "</table>\n",
       "</div>"
      ],
      "text/plain": [
       "       PassengerId    Survived      Pclass         Age       SibSp  \\\n",
       "count   891.000000  891.000000  891.000000  714.000000  891.000000   \n",
       "mean    446.000000    0.383838    2.308642   29.699118    0.523008   \n",
       "std     257.353842    0.486592    0.836071   14.526497    1.102743   \n",
       "min       1.000000    0.000000    1.000000    0.420000    0.000000   \n",
       "25%     223.500000    0.000000    2.000000   20.125000    0.000000   \n",
       "50%     446.000000    0.000000    3.000000   28.000000    0.000000   \n",
       "75%     668.500000    1.000000    3.000000   38.000000    1.000000   \n",
       "max     891.000000    1.000000    3.000000   80.000000    8.000000   \n",
       "\n",
       "            Parch        Fare  \n",
       "count  891.000000  891.000000  \n",
       "mean     0.381594   32.204208  \n",
       "std      0.806057   49.693429  \n",
       "min      0.000000    0.000000  \n",
       "25%      0.000000    7.910400  \n",
       "50%      0.000000   14.454200  \n",
       "75%      0.000000   31.000000  \n",
       "max      6.000000  512.329200  "
      ]
     },
     "execution_count": 18,
     "metadata": {},
     "output_type": "execute_result"
    }
   ],
   "source": [
    "df_titanic.describe()"
   ]
  },
  {
   "cell_type": "markdown",
   "metadata": {},
   "source": [
    "<h2><a name=\"terceiro\">3. Limpando os dados</a></h2>\n",
    "<p>A partir deste ponto os dados serão tratados para remover as inconsistências</p>"
   ]
  },
  {
   "cell_type": "markdown",
   "metadata": {},
   "source": [
    "<p>O código abaixo calcula a idade média da coluna idade e atribui esta média para as colunas que estão com este dado faltante</p>\n",
    "<p>É possível observar que a média não mudou com este procedimento, porém agora a coluna <strong>Age</strong> passa a ter o mesmo número de registros que as outras colunas acima</p>"
   ]
  },
  {
   "cell_type": "code",
   "execution_count": 19,
   "metadata": {},
   "outputs": [
    {
     "name": "stdout",
     "output_type": "stream",
     "text": [
      "29.69911764705882\n"
     ]
    }
   ],
   "source": [
    "mean_age = df_titanic['Age'].mean()\n",
    "print(str(mean_age))"
   ]
  },
  {
   "cell_type": "code",
   "execution_count": 20,
   "metadata": {},
   "outputs": [],
   "source": [
    "df_titanic['Age'].fillna(mean_age, inplace=True)"
   ]
  },
  {
   "cell_type": "code",
   "execution_count": 21,
   "metadata": {},
   "outputs": [
    {
     "name": "stdout",
     "output_type": "stream",
     "text": [
      "29.69911764705882\n"
     ]
    }
   ],
   "source": [
    "print(str(df_titanic['Age'].mean()))"
   ]
  },
  {
   "cell_type": "code",
   "execution_count": 22,
   "metadata": {},
   "outputs": [
    {
     "name": "stdout",
     "output_type": "stream",
     "text": [
      "<class 'pandas.core.frame.DataFrame'>\n",
      "RangeIndex: 891 entries, 0 to 890\n",
      "Data columns (total 12 columns):\n",
      "PassengerId    891 non-null int64\n",
      "Survived       891 non-null int64\n",
      "Pclass         891 non-null int64\n",
      "Name           891 non-null object\n",
      "Sex            891 non-null object\n",
      "Age            891 non-null float64\n",
      "SibSp          891 non-null int64\n",
      "Parch          891 non-null int64\n",
      "Ticket         891 non-null object\n",
      "Fare           891 non-null float64\n",
      "Cabin          204 non-null object\n",
      "Embarked       889 non-null object\n",
      "dtypes: float64(2), int64(5), object(5)\n",
      "memory usage: 83.6+ KB\n"
     ]
    }
   ],
   "source": [
    "df_titanic.info()"
   ]
  },
  {
   "cell_type": "markdown",
   "metadata": {},
   "source": [
    "<p>O codigo abaixo lida com a falta de registro para a Coluna Cabin</p>\n",
    "<p>Uma possível estratégia poderia ser a exclusão das linhas em que o atributo não está presente, porém, com o código abaixo podemos perceber que pouco mais de 82% dos registros não possuem este atributo. Assim descartar os dados neste caso pode não ser interessante</p>\n",
    "<p>A coluna 'cabin' identifica em qual cabine o bilhete estava associado.</p>\n",
    "<p>Observando alguns registros os dados da coluna é composto por uma letra concatenada com uma sequência de números</p>\n",
    "<p>Poderiamos então atribuir a cabine com maior frequencia nos registros vazios, porém esta estratégia se mostra sem muito sentido lógico, já que ocasinaoria um entedimento de superlotação em uma única cabine</p>\n",
    "<p>Observando um pouco mais as cabines com maior lotação possuem 4 ocorrências, reforçando a ideia acima</p>\n",
    "<p>Por fim, para que os dados não viessem a ser desconsiderados a estratégia foi atribuir uma classe denominada <strong>T0</strong>, assim assumimos que os tickets foram vendidos, mas há ausência da informação da lotação dos mesmos, cuja resposta não pode ser determinada neste conjunto de dados</p>"
   ]
  },
  {
   "cell_type": "code",
   "execution_count": 23,
   "metadata": {},
   "outputs": [
    {
     "name": "stdout",
     "output_type": "stream",
     "text": [
      "Total lines for Data Frame = 891\n",
      "Total lines for column Cabin = 204\n",
      "Percent = 22.895622895622896\n"
     ]
    }
   ],
   "source": [
    "df_total_lines = df_titanic.shape[0]\n",
    "cabin_total = df_titanic['Cabin'].count()\n",
    "cabin_percent = (cabin_total / df_total_lines) * 100\n",
    "\n",
    "msg = \"Total lines for Data Frame = {}\\nTotal lines for column Cabin = {}\\nPercent = {}\"\n",
    "print(msg.format(str(df_total_lines), str(cabin_total), str(cabin_percent)))"
   ]
  },
  {
   "cell_type": "code",
   "execution_count": 24,
   "metadata": {},
   "outputs": [
    {
     "name": "stdout",
     "output_type": "stream",
     "text": [
      "{nan, 'B71', 'D36', 'A32', 'B38', 'C50', 'C124', 'D28', 'D17', 'D9', 'E36', 'D37', 'E58', 'B69', 'F38', 'A36', 'C7', 'D46', 'C70', 'F33', 'C49', 'D11', 'F4', 'D20', 'A24', 'B28', 'B102', 'B30', 'C65', 'E17', 'A7', 'F E69', 'C111', 'B79', 'B86', 'D48', 'T', 'E63', 'B77', 'B94', 'D7', 'C104', 'B58 B60', 'D21', 'E25', 'D50', 'C91', 'D6', 'B18', 'D10 D12', 'E50', 'D45', 'C54', 'C99', 'B50', 'C126', 'C93', 'A26', 'A5', 'C148', 'B73', 'B20', 'F G63', 'A34', 'C103', 'E31', 'B5', 'B35', 'E34', 'B51 B53 B55', 'C85', 'A19', 'B37', 'B101', 'B4', 'C86', 'D33', 'C123', 'C83', 'D', 'C95', 'C78', 'C62 C64', 'D30', 'E40', 'E33', 'C52', 'C30', 'C110', 'E67', 'A31', 'E77', 'C47', 'B41', 'E8', 'A20', 'F G73', 'C45', 'C125', 'E38', 'B57 B59 B63 B66', 'F2', 'C82', 'B39', 'D15', 'C32', 'B96 B98', 'D47', 'C2', 'B22', 'B19', 'C23 C25 C27', 'C106', 'D35', 'E44', 'B49', 'C46', 'C128', 'A10', 'A23', 'E101', 'C92', 'D19', 'E24', 'B78', 'B3', 'B42', 'B82 B84', 'E49', 'C22 C26', 'C87', 'G6', 'B80', 'E10', 'E12', 'A16', 'E68', 'E46', 'A14', 'E121', 'A6', 'C68', 'C118', 'D49', 'D26', 'C101', 'C90', 'D56'}\n"
     ]
    }
   ],
   "source": [
    "print(set(df_titanic['Cabin']))"
   ]
  },
  {
   "cell_type": "code",
   "execution_count": 25,
   "metadata": {},
   "outputs": [
    {
     "data": {
      "text/plain": [
       "B96 B98            4\n",
       "C23 C25 C27        4\n",
       "G6                 4\n",
       "C22 C26            3\n",
       "F33                3\n",
       "E101               3\n",
       "F2                 3\n",
       "D                  3\n",
       "B51 B53 B55        2\n",
       "C78                2\n",
       "B57 B59 B63 B66    2\n",
       "B49                2\n",
       "E67                2\n",
       "C92                2\n",
       "B58 B60            2\n",
       "E25                2\n",
       "B77                2\n",
       "B22                2\n",
       "B5                 2\n",
       "E33                2\n",
       "E44                2\n",
       "E8                 2\n",
       "D35                2\n",
       "F G73              2\n",
       "B35                2\n",
       "C2                 2\n",
       "C125               2\n",
       "D17                2\n",
       "B28                2\n",
       "D20                2\n",
       "                  ..\n",
       "E50                1\n",
       "A23                1\n",
       "C90                1\n",
       "D10 D12            1\n",
       "C82                1\n",
       "B39                1\n",
       "D49                1\n",
       "D15                1\n",
       "C32                1\n",
       "D47                1\n",
       "B19                1\n",
       "A7                 1\n",
       "E10                1\n",
       "F E69              1\n",
       "E58                1\n",
       "B86                1\n",
       "D48                1\n",
       "A31                1\n",
       "B82 B84            1\n",
       "T                  1\n",
       "E63                1\n",
       "C46                1\n",
       "C128               1\n",
       "B94                1\n",
       "D7                 1\n",
       "B80                1\n",
       "C91                1\n",
       "C104               1\n",
       "D19                1\n",
       "E34                1\n",
       "Name: Cabin, Length: 147, dtype: int64"
      ]
     },
     "execution_count": 25,
     "metadata": {},
     "output_type": "execute_result"
    }
   ],
   "source": [
    "df_titanic['Cabin'].value_counts()"
   ]
  },
  {
   "cell_type": "code",
   "execution_count": 26,
   "metadata": {},
   "outputs": [],
   "source": [
    "df_titanic['Cabin'].fillna('T0', inplace=True)"
   ]
  },
  {
   "cell_type": "code",
   "execution_count": 27,
   "metadata": {},
   "outputs": [
    {
     "name": "stdout",
     "output_type": "stream",
     "text": [
      "<class 'pandas.core.frame.DataFrame'>\n",
      "RangeIndex: 891 entries, 0 to 890\n",
      "Data columns (total 12 columns):\n",
      "PassengerId    891 non-null int64\n",
      "Survived       891 non-null int64\n",
      "Pclass         891 non-null int64\n",
      "Name           891 non-null object\n",
      "Sex            891 non-null object\n",
      "Age            891 non-null float64\n",
      "SibSp          891 non-null int64\n",
      "Parch          891 non-null int64\n",
      "Ticket         891 non-null object\n",
      "Fare           891 non-null float64\n",
      "Cabin          891 non-null object\n",
      "Embarked       889 non-null object\n",
      "dtypes: float64(2), int64(5), object(5)\n",
      "memory usage: 83.6+ KB\n"
     ]
    }
   ],
   "source": [
    "df_titanic.info()"
   ]
  },
  {
   "cell_type": "markdown",
   "metadata": {},
   "source": [
    "<p>Analisaremos a coluna <strong>Embarked</strong>.</p>\n",
    "<p>Seguindo o mesmo princípio do passo anterior tentamos visualizar em números a falta de dados. Porém, aqui a quantidade chega a ser insignificante. Portanto, a estratégia é eliminar as linhas cujos os dados da coluna <strong>Embarked</strong> não estejam presente</p>\n",
    "<p>Cabe pbservar que atribuir um valor aqui pode não ser uma boa estratégia, pois além do baixo número de registros, o significado da coluna, que informa em qual porto a pessoa embarcou. Inserir um valor aleatório pode gerar uma interpretação confuda, e manter a persistência destes dados com poucos registros, em análise numérica/tabular ou gráfica, geraram resultados irrisórios</p>"
   ]
  },
  {
   "cell_type": "code",
   "execution_count": 28,
   "metadata": {},
   "outputs": [
    {
     "name": "stdout",
     "output_type": "stream",
     "text": [
      "Total lines for Data Frame = 891\n",
      "Total lines for column Cabin = 889\n",
      "Percent = 99.77553310886644\n"
     ]
    }
   ],
   "source": [
    "embarked_total = df_titanic['Embarked'].count()\n",
    "embarked_percent = (embarked_total / df_total_lines) * 100\n",
    "\n",
    "msg = \"Total lines for Data Frame = {}\\nTotal lines for column Cabin = {}\\nPercent = {}\"\n",
    "print(msg.format(str(df_total_lines), str(embarked_total), str(embarked_percent)))"
   ]
  },
  {
   "cell_type": "code",
   "execution_count": 29,
   "metadata": {},
   "outputs": [],
   "source": [
    "df_titanic.dropna(inplace=True)"
   ]
  },
  {
   "cell_type": "code",
   "execution_count": 30,
   "metadata": {},
   "outputs": [
    {
     "name": "stdout",
     "output_type": "stream",
     "text": [
      "<class 'pandas.core.frame.DataFrame'>\n",
      "Int64Index: 889 entries, 0 to 890\n",
      "Data columns (total 12 columns):\n",
      "PassengerId    889 non-null int64\n",
      "Survived       889 non-null int64\n",
      "Pclass         889 non-null int64\n",
      "Name           889 non-null object\n",
      "Sex            889 non-null object\n",
      "Age            889 non-null float64\n",
      "SibSp          889 non-null int64\n",
      "Parch          889 non-null int64\n",
      "Ticket         889 non-null object\n",
      "Fare           889 non-null float64\n",
      "Cabin          889 non-null object\n",
      "Embarked       889 non-null object\n",
      "dtypes: float64(2), int64(5), object(5)\n",
      "memory usage: 90.3+ KB\n"
     ]
    }
   ],
   "source": [
    "df_titanic.info()"
   ]
  },
  {
   "cell_type": "markdown",
   "metadata": {},
   "source": [
    "<p>Neste ponto os dados são observados para verificar se existem ocorrências duplicadas</p>\n",
    "<p>Observando então que não há ocorrências duplicadas então não há necessidade de executar qualquer procedimento</p>"
   ]
  },
  {
   "cell_type": "code",
   "execution_count": 31,
   "metadata": {},
   "outputs": [
    {
     "data": {
      "text/plain": [
       "0"
      ]
     },
     "execution_count": 31,
     "metadata": {},
     "output_type": "execute_result"
    }
   ],
   "source": [
    "sum(df_titanic.duplicated())"
   ]
  },
  {
   "cell_type": "markdown",
   "metadata": {},
   "source": [
    "<p>Neste ponto iremos renomear as colunas para que estas se adequem ao padrão da comunidade de análise de dados</p>\n",
    "<p>Este padrão indica que o nome das colunas devem ser compostos por letras minúsculas</p>"
   ]
  },
  {
   "cell_type": "code",
   "execution_count": 32,
   "metadata": {},
   "outputs": [
    {
     "name": "stdout",
     "output_type": "stream",
     "text": [
      "['passengerid', 'survived', 'pclass', 'name', 'sex', 'age', 'sibsp', 'parch', 'ticket', 'fare', 'cabin', 'embarked']\n"
     ]
    }
   ],
   "source": [
    "new_labels = []\n",
    "for col in df_titanic.columns:\n",
    "    new_labels.append(col.lower())\n",
    "\n",
    "print(new_labels)"
   ]
  },
  {
   "cell_type": "code",
   "execution_count": 33,
   "metadata": {},
   "outputs": [
    {
     "data": {
      "text/html": [
       "<div>\n",
       "<style scoped>\n",
       "    .dataframe tbody tr th:only-of-type {\n",
       "        vertical-align: middle;\n",
       "    }\n",
       "\n",
       "    .dataframe tbody tr th {\n",
       "        vertical-align: top;\n",
       "    }\n",
       "\n",
       "    .dataframe thead th {\n",
       "        text-align: right;\n",
       "    }\n",
       "</style>\n",
       "<table border=\"1\" class=\"dataframe\">\n",
       "  <thead>\n",
       "    <tr style=\"text-align: right;\">\n",
       "      <th></th>\n",
       "      <th>passengerid</th>\n",
       "      <th>survived</th>\n",
       "      <th>pclass</th>\n",
       "      <th>name</th>\n",
       "      <th>sex</th>\n",
       "      <th>age</th>\n",
       "      <th>sibsp</th>\n",
       "      <th>parch</th>\n",
       "      <th>ticket</th>\n",
       "      <th>fare</th>\n",
       "      <th>cabin</th>\n",
       "      <th>embarked</th>\n",
       "    </tr>\n",
       "  </thead>\n",
       "  <tbody>\n",
       "    <tr>\n",
       "      <th>0</th>\n",
       "      <td>1</td>\n",
       "      <td>0</td>\n",
       "      <td>3</td>\n",
       "      <td>Braund, Mr. Owen Harris</td>\n",
       "      <td>male</td>\n",
       "      <td>22.0</td>\n",
       "      <td>1</td>\n",
       "      <td>0</td>\n",
       "      <td>A/5 21171</td>\n",
       "      <td>7.2500</td>\n",
       "      <td>T0</td>\n",
       "      <td>S</td>\n",
       "    </tr>\n",
       "    <tr>\n",
       "      <th>1</th>\n",
       "      <td>2</td>\n",
       "      <td>1</td>\n",
       "      <td>1</td>\n",
       "      <td>Cumings, Mrs. John Bradley (Florence Briggs Th...</td>\n",
       "      <td>female</td>\n",
       "      <td>38.0</td>\n",
       "      <td>1</td>\n",
       "      <td>0</td>\n",
       "      <td>PC 17599</td>\n",
       "      <td>71.2833</td>\n",
       "      <td>C85</td>\n",
       "      <td>C</td>\n",
       "    </tr>\n",
       "    <tr>\n",
       "      <th>2</th>\n",
       "      <td>3</td>\n",
       "      <td>1</td>\n",
       "      <td>3</td>\n",
       "      <td>Heikkinen, Miss. Laina</td>\n",
       "      <td>female</td>\n",
       "      <td>26.0</td>\n",
       "      <td>0</td>\n",
       "      <td>0</td>\n",
       "      <td>STON/O2. 3101282</td>\n",
       "      <td>7.9250</td>\n",
       "      <td>T0</td>\n",
       "      <td>S</td>\n",
       "    </tr>\n",
       "    <tr>\n",
       "      <th>3</th>\n",
       "      <td>4</td>\n",
       "      <td>1</td>\n",
       "      <td>1</td>\n",
       "      <td>Futrelle, Mrs. Jacques Heath (Lily May Peel)</td>\n",
       "      <td>female</td>\n",
       "      <td>35.0</td>\n",
       "      <td>1</td>\n",
       "      <td>0</td>\n",
       "      <td>113803</td>\n",
       "      <td>53.1000</td>\n",
       "      <td>C123</td>\n",
       "      <td>S</td>\n",
       "    </tr>\n",
       "    <tr>\n",
       "      <th>4</th>\n",
       "      <td>5</td>\n",
       "      <td>0</td>\n",
       "      <td>3</td>\n",
       "      <td>Allen, Mr. William Henry</td>\n",
       "      <td>male</td>\n",
       "      <td>35.0</td>\n",
       "      <td>0</td>\n",
       "      <td>0</td>\n",
       "      <td>373450</td>\n",
       "      <td>8.0500</td>\n",
       "      <td>T0</td>\n",
       "      <td>S</td>\n",
       "    </tr>\n",
       "  </tbody>\n",
       "</table>\n",
       "</div>"
      ],
      "text/plain": [
       "   passengerid  survived  pclass  \\\n",
       "0            1         0       3   \n",
       "1            2         1       1   \n",
       "2            3         1       3   \n",
       "3            4         1       1   \n",
       "4            5         0       3   \n",
       "\n",
       "                                                name     sex   age  sibsp  \\\n",
       "0                            Braund, Mr. Owen Harris    male  22.0      1   \n",
       "1  Cumings, Mrs. John Bradley (Florence Briggs Th...  female  38.0      1   \n",
       "2                             Heikkinen, Miss. Laina  female  26.0      0   \n",
       "3       Futrelle, Mrs. Jacques Heath (Lily May Peel)  female  35.0      1   \n",
       "4                           Allen, Mr. William Henry    male  35.0      0   \n",
       "\n",
       "   parch            ticket     fare cabin embarked  \n",
       "0      0         A/5 21171   7.2500    T0        S  \n",
       "1      0          PC 17599  71.2833   C85        C  \n",
       "2      0  STON/O2. 3101282   7.9250    T0        S  \n",
       "3      0            113803  53.1000  C123        S  \n",
       "4      0            373450   8.0500    T0        S  "
      ]
     },
     "execution_count": 33,
     "metadata": {},
     "output_type": "execute_result"
    }
   ],
   "source": [
    "df_titanic.columns = new_labels\n",
    "df_titanic.head()"
   ]
  },
  {
   "cell_type": "markdown",
   "metadata": {},
   "source": [
    "<p>Após a limpeza salvamos o <i>Data Frame</i> trabalhado em um novo arquivo</p>"
   ]
  },
  {
   "cell_type": "code",
   "execution_count": 34,
   "metadata": {},
   "outputs": [],
   "source": [
    "df_titanic.to_csv('titanic-data-6-edited.csv', index=False)"
   ]
  },
  {
   "cell_type": "markdown",
   "metadata": {},
   "source": [
    "<h2><a name=\"quarto\">4. Visualização dos dados</a></h2>\n",
    "<p>A patir deste ponto usaremos o <a href=\"https://matplotlib.org/\" target=\"_blank\">MatplotLib</a> para visualizar graficamente o que os dados podem nos dizer</p>"
   ]
  },
  {
   "cell_type": "code",
   "execution_count": 35,
   "metadata": {},
   "outputs": [
    {
     "name": "stdout",
     "output_type": "stream",
     "text": [
      "<class 'pandas.core.frame.DataFrame'>\n",
      "Int64Index: 889 entries, 0 to 890\n",
      "Data columns (total 12 columns):\n",
      "passengerid    889 non-null int64\n",
      "survived       889 non-null int64\n",
      "pclass         889 non-null int64\n",
      "name           889 non-null object\n",
      "sex            889 non-null object\n",
      "age            889 non-null float64\n",
      "sibsp          889 non-null int64\n",
      "parch          889 non-null int64\n",
      "ticket         889 non-null object\n",
      "fare           889 non-null float64\n",
      "cabin          889 non-null object\n",
      "embarked       889 non-null object\n",
      "dtypes: float64(2), int64(5), object(5)\n",
      "memory usage: 90.3+ KB\n"
     ]
    }
   ],
   "source": [
    "df_titanic.info()"
   ]
  },
  {
   "cell_type": "code",
   "execution_count": 36,
   "metadata": {},
   "outputs": [
    {
     "data": {
      "image/png": "[encoded data removed]",
      "text/plain": [
       "<Figure size 432x288 with 1 Axes>"
      ]
     },
     "metadata": {
      "needs_background": "light"
     },
     "output_type": "display_data"
    }
   ],
   "source": [
    "df_titanic['sex'].value_counts().plot(kind='bar');"
   ]
  },
  {
   "cell_type": "markdown",
   "metadata": {},
   "source": [
    "<p>Com o gráfico abaixo percebe-se a distribuição de passageiros por porto de embarcação sendo a maior frequência <i>Southampton</i></p>"
   ]
  },
  {
   "cell_type": "code",
   "execution_count": 37,
   "metadata": {},
   "outputs": [
    {
     "data": {
      "image/png": "[encoded data removed]",
      "text/plain": [
       "<Figure size 432x288 with 1 Axes>"
      ]
     },
     "metadata": {
      "needs_background": "light"
     },
     "output_type": "display_data"
    }
   ],
   "source": [
    "df_titanic['embarked'].value_counts().plot(kind='bar');"
   ]
  },
  {
   "cell_type": "code",
   "execution_count": 38,
   "metadata": {},
   "outputs": [
    {
     "data": {
      "text/plain": [
       "<matplotlib.axes._subplots.AxesSubplot at 0x6710ae5cf8>"
      ]
     },
     "execution_count": 38,
     "metadata": {},
     "output_type": "execute_result"
    },
    {
     "data": {
      "image/png": "[encoded data removed]",
      "text/plain": [
       "<Figure size 432x288 with 1 Axes>"
      ]
     },
     "metadata": {
      "needs_background": "light"
     },
     "output_type": "display_data"
    }
   ],
   "source": [
    "df_titanic.groupby(['sex', 'survived']).size().unstack().plot.bar()"
   ]
  },
  {
   "cell_type": "code",
   "execution_count": 39,
   "metadata": {},
   "outputs": [
    {
     "data": {
      "text/plain": [
       "<matplotlib.axes._subplots.AxesSubplot at 0x6710a6f2e8>"
      ]
     },
     "execution_count": 39,
     "metadata": {},
     "output_type": "execute_result"
    },
    {
     "data": {
      "image/png": "[encoded data removed]",
      "text/plain": [
       "<Figure size 432x288 with 1 Axes>"
      ]
     },
     "metadata": {
      "needs_background": "light"
     },
     "output_type": "display_data"
    }
   ],
   "source": [
    "df_titanic.groupby(['pclass', 'survived']).size().unstack().plot.bar()"
   ]
  },
  {
   "cell_type": "markdown",
   "metadata": {},
   "source": [
    "<h2><a name=\"quinto\">5. Analisando dados</a></h2>\n",
    "<p>Neste ponto perguntas são elaboradas com base no tratamento dos dados e nas visualizações construídas. Assim procurando entender alguns possiveis fatores determinantes para a sobrevivência</p>"
   ]
  },
  {
   "cell_type": "markdown",
   "metadata": {},
   "source": [
    "A idade do passageiro teve influência na sua taxa de sobrevivência?\n",
    "<p>A demonstração abaixo analise a idade como impactante para a sobrevivência</p>\n",
    "<p>O que se entende que a idade inferior a 20 e superior a 30~35 anos determina a sobrevivência do individuo, ou seja, <strong>crianças e idosos primeiro!</strong></p>"
   ]
  },
  {
   "cell_type": "code",
   "execution_count": 40,
   "metadata": {},
   "outputs": [
    {
     "data": {
      "text/plain": [
       "(340, 12)"
      ]
     },
     "execution_count": 40,
     "metadata": {},
     "output_type": "execute_result"
    }
   ],
   "source": [
    "df_titanic_survived = df_titanic.query('survived == 1').iloc[:,:]\n",
    "df_titanic_survived.shape"
   ]
  },
  {
   "cell_type": "code",
   "execution_count": 41,
   "metadata": {},
   "outputs": [
    {
     "data": {
      "text/plain": [
       "(549, 12)"
      ]
     },
     "execution_count": 41,
     "metadata": {},
     "output_type": "execute_result"
    }
   ],
   "source": [
    "df_titanic_not_survived = df_titanic.query('survived == 0').iloc[:,:]\n",
    "df_titanic_not_survived.shape"
   ]
  },
  {
   "cell_type": "code",
   "execution_count": 58,
   "metadata": {},
   "outputs": [
    {
     "data": {
      "image/png": "[encoded data removed]",
      "text/plain": [
       "<Figure size 432x288 with 1 Axes>"
      ]
     },
     "metadata": {
      "needs_background": "light"
     },
     "output_type": "display_data"
    }
   ],
   "source": [
    "ax = df_titanic_survived['age'].plot(kind='hist', title='Histograma para a distribuição de idade', legend=True);\n",
    "ax.set_xlabel(\"Faixa etária\");\n",
    "ax.set_ylabel(\"Frequência\");"
   ]
  },
  {
   "cell_type": "code",
   "execution_count": 59,
   "metadata": {},
   "outputs": [
    {
     "data": {
      "image/png": "[encoded data removed]",
      "text/plain": [
       "<Figure size 432x288 with 1 Axes>"
      ]
     },
     "metadata": {
      "needs_background": "light"
     },
     "output_type": "display_data"
    }
   ],
   "source": [
    "ax = df_titanic_not_survived['age'].plot(kind='hist', title='Histograma para a distribuição de idade', legend=True);\n",
    "ax.set_xlabel(\"Faixa etária\");\n",
    "ax.set_ylabel(\"Frequência\");"
   ]
  },
  {
   "cell_type": "code",
   "execution_count": 44,
   "metadata": {},
   "outputs": [
    {
     "data": {
      "text/html": [
       "<div>\n",
       "<style scoped>\n",
       "    .dataframe tbody tr th:only-of-type {\n",
       "        vertical-align: middle;\n",
       "    }\n",
       "\n",
       "    .dataframe tbody tr th {\n",
       "        vertical-align: top;\n",
       "    }\n",
       "\n",
       "    .dataframe thead th {\n",
       "        text-align: right;\n",
       "    }\n",
       "</style>\n",
       "<table border=\"1\" class=\"dataframe\">\n",
       "  <thead>\n",
       "    <tr style=\"text-align: right;\">\n",
       "      <th></th>\n",
       "      <th>passengerid</th>\n",
       "      <th>survived</th>\n",
       "      <th>pclass</th>\n",
       "      <th>age</th>\n",
       "      <th>sibsp</th>\n",
       "      <th>parch</th>\n",
       "      <th>fare</th>\n",
       "    </tr>\n",
       "  </thead>\n",
       "  <tbody>\n",
       "    <tr>\n",
       "      <th>count</th>\n",
       "      <td>340.000000</td>\n",
       "      <td>340.0</td>\n",
       "      <td>340.000000</td>\n",
       "      <td>340.000000</td>\n",
       "      <td>340.000000</td>\n",
       "      <td>340.000000</td>\n",
       "      <td>340.000000</td>\n",
       "    </tr>\n",
       "    <tr>\n",
       "      <th>mean</th>\n",
       "      <td>444.358824</td>\n",
       "      <td>1.0</td>\n",
       "      <td>1.955882</td>\n",
       "      <td>28.423600</td>\n",
       "      <td>0.476471</td>\n",
       "      <td>0.467647</td>\n",
       "      <td>48.209498</td>\n",
       "    </tr>\n",
       "    <tr>\n",
       "      <th>std</th>\n",
       "      <td>251.377692</td>\n",
       "      <td>0.0</td>\n",
       "      <td>0.862763</td>\n",
       "      <td>13.682862</td>\n",
       "      <td>0.709838</td>\n",
       "      <td>0.773156</td>\n",
       "      <td>66.748773</td>\n",
       "    </tr>\n",
       "    <tr>\n",
       "      <th>min</th>\n",
       "      <td>2.000000</td>\n",
       "      <td>1.0</td>\n",
       "      <td>1.000000</td>\n",
       "      <td>0.420000</td>\n",
       "      <td>0.000000</td>\n",
       "      <td>0.000000</td>\n",
       "      <td>0.000000</td>\n",
       "    </tr>\n",
       "    <tr>\n",
       "      <th>25%</th>\n",
       "      <td>254.250000</td>\n",
       "      <td>1.0</td>\n",
       "      <td>1.000000</td>\n",
       "      <td>21.000000</td>\n",
       "      <td>0.000000</td>\n",
       "      <td>0.000000</td>\n",
       "      <td>12.443750</td>\n",
       "    </tr>\n",
       "    <tr>\n",
       "      <th>50%</th>\n",
       "      <td>439.500000</td>\n",
       "      <td>1.0</td>\n",
       "      <td>2.000000</td>\n",
       "      <td>29.699118</td>\n",
       "      <td>0.000000</td>\n",
       "      <td>0.000000</td>\n",
       "      <td>26.000000</td>\n",
       "    </tr>\n",
       "    <tr>\n",
       "      <th>75%</th>\n",
       "      <td>650.500000</td>\n",
       "      <td>1.0</td>\n",
       "      <td>3.000000</td>\n",
       "      <td>35.000000</td>\n",
       "      <td>1.000000</td>\n",
       "      <td>1.000000</td>\n",
       "      <td>56.946900</td>\n",
       "    </tr>\n",
       "    <tr>\n",
       "      <th>max</th>\n",
       "      <td>890.000000</td>\n",
       "      <td>1.0</td>\n",
       "      <td>3.000000</td>\n",
       "      <td>80.000000</td>\n",
       "      <td>4.000000</td>\n",
       "      <td>5.000000</td>\n",
       "      <td>512.329200</td>\n",
       "    </tr>\n",
       "  </tbody>\n",
       "</table>\n",
       "</div>"
      ],
      "text/plain": [
       "       passengerid  survived      pclass         age       sibsp       parch  \\\n",
       "count   340.000000     340.0  340.000000  340.000000  340.000000  340.000000   \n",
       "mean    444.358824       1.0    1.955882   28.423600    0.476471    0.467647   \n",
       "std     251.377692       0.0    0.862763   13.682862    0.709838    0.773156   \n",
       "min       2.000000       1.0    1.000000    0.420000    0.000000    0.000000   \n",
       "25%     254.250000       1.0    1.000000   21.000000    0.000000    0.000000   \n",
       "50%     439.500000       1.0    2.000000   29.699118    0.000000    0.000000   \n",
       "75%     650.500000       1.0    3.000000   35.000000    1.000000    1.000000   \n",
       "max     890.000000       1.0    3.000000   80.000000    4.000000    5.000000   \n",
       "\n",
       "             fare  \n",
       "count  340.000000  \n",
       "mean    48.209498  \n",
       "std     66.748773  \n",
       "min      0.000000  \n",
       "25%     12.443750  \n",
       "50%     26.000000  \n",
       "75%     56.946900  \n",
       "max    512.329200  "
      ]
     },
     "execution_count": 44,
     "metadata": {},
     "output_type": "execute_result"
    }
   ],
   "source": [
    "df_titanic_survived.describe()"
   ]
  },
  {
   "cell_type": "code",
   "execution_count": 45,
   "metadata": {},
   "outputs": [
    {
     "data": {
      "text/html": [
       "<div>\n",
       "<style scoped>\n",
       "    .dataframe tbody tr th:only-of-type {\n",
       "        vertical-align: middle;\n",
       "    }\n",
       "\n",
       "    .dataframe tbody tr th {\n",
       "        vertical-align: top;\n",
       "    }\n",
       "\n",
       "    .dataframe thead th {\n",
       "        text-align: right;\n",
       "    }\n",
       "</style>\n",
       "<table border=\"1\" class=\"dataframe\">\n",
       "  <thead>\n",
       "    <tr style=\"text-align: right;\">\n",
       "      <th></th>\n",
       "      <th>passengerid</th>\n",
       "      <th>survived</th>\n",
       "      <th>pclass</th>\n",
       "      <th>age</th>\n",
       "      <th>sibsp</th>\n",
       "      <th>parch</th>\n",
       "      <th>fare</th>\n",
       "    </tr>\n",
       "  </thead>\n",
       "  <tbody>\n",
       "    <tr>\n",
       "      <th>count</th>\n",
       "      <td>549.000000</td>\n",
       "      <td>549.0</td>\n",
       "      <td>549.000000</td>\n",
       "      <td>549.000000</td>\n",
       "      <td>549.000000</td>\n",
       "      <td>549.000000</td>\n",
       "      <td>549.000000</td>\n",
       "    </tr>\n",
       "    <tr>\n",
       "      <th>mean</th>\n",
       "      <td>447.016393</td>\n",
       "      <td>0.0</td>\n",
       "      <td>2.531876</td>\n",
       "      <td>30.415100</td>\n",
       "      <td>0.553734</td>\n",
       "      <td>0.329690</td>\n",
       "      <td>22.117887</td>\n",
       "    </tr>\n",
       "    <tr>\n",
       "      <th>std</th>\n",
       "      <td>260.640469</td>\n",
       "      <td>0.0</td>\n",
       "      <td>0.735805</td>\n",
       "      <td>12.457370</td>\n",
       "      <td>1.288399</td>\n",
       "      <td>0.823166</td>\n",
       "      <td>31.388207</td>\n",
       "    </tr>\n",
       "    <tr>\n",
       "      <th>min</th>\n",
       "      <td>1.000000</td>\n",
       "      <td>0.0</td>\n",
       "      <td>1.000000</td>\n",
       "      <td>1.000000</td>\n",
       "      <td>0.000000</td>\n",
       "      <td>0.000000</td>\n",
       "      <td>0.000000</td>\n",
       "    </tr>\n",
       "    <tr>\n",
       "      <th>25%</th>\n",
       "      <td>211.000000</td>\n",
       "      <td>0.0</td>\n",
       "      <td>2.000000</td>\n",
       "      <td>23.000000</td>\n",
       "      <td>0.000000</td>\n",
       "      <td>0.000000</td>\n",
       "      <td>7.854200</td>\n",
       "    </tr>\n",
       "    <tr>\n",
       "      <th>50%</th>\n",
       "      <td>455.000000</td>\n",
       "      <td>0.0</td>\n",
       "      <td>3.000000</td>\n",
       "      <td>29.699118</td>\n",
       "      <td>0.000000</td>\n",
       "      <td>0.000000</td>\n",
       "      <td>10.500000</td>\n",
       "    </tr>\n",
       "    <tr>\n",
       "      <th>75%</th>\n",
       "      <td>675.000000</td>\n",
       "      <td>0.0</td>\n",
       "      <td>3.000000</td>\n",
       "      <td>35.000000</td>\n",
       "      <td>1.000000</td>\n",
       "      <td>0.000000</td>\n",
       "      <td>26.000000</td>\n",
       "    </tr>\n",
       "    <tr>\n",
       "      <th>max</th>\n",
       "      <td>891.000000</td>\n",
       "      <td>0.0</td>\n",
       "      <td>3.000000</td>\n",
       "      <td>74.000000</td>\n",
       "      <td>8.000000</td>\n",
       "      <td>6.000000</td>\n",
       "      <td>263.000000</td>\n",
       "    </tr>\n",
       "  </tbody>\n",
       "</table>\n",
       "</div>"
      ],
      "text/plain": [
       "       passengerid  survived      pclass         age       sibsp       parch  \\\n",
       "count   549.000000     549.0  549.000000  549.000000  549.000000  549.000000   \n",
       "mean    447.016393       0.0    2.531876   30.415100    0.553734    0.329690   \n",
       "std     260.640469       0.0    0.735805   12.457370    1.288399    0.823166   \n",
       "min       1.000000       0.0    1.000000    1.000000    0.000000    0.000000   \n",
       "25%     211.000000       0.0    2.000000   23.000000    0.000000    0.000000   \n",
       "50%     455.000000       0.0    3.000000   29.699118    0.000000    0.000000   \n",
       "75%     675.000000       0.0    3.000000   35.000000    1.000000    0.000000   \n",
       "max     891.000000       0.0    3.000000   74.000000    8.000000    6.000000   \n",
       "\n",
       "             fare  \n",
       "count  549.000000  \n",
       "mean    22.117887  \n",
       "std     31.388207  \n",
       "min      0.000000  \n",
       "25%      7.854200  \n",
       "50%     10.500000  \n",
       "75%     26.000000  \n",
       "max    263.000000  "
      ]
     },
     "execution_count": 45,
     "metadata": {},
     "output_type": "execute_result"
    }
   ],
   "source": [
    "df_titanic_not_survived.describe()"
   ]
  },
  {
   "cell_type": "code",
   "execution_count": 46,
   "metadata": {},
   "outputs": [
    {
     "data": {
      "text/plain": [
       "faixa_etaria  survived\n",
       "(0, 10]       0            4.735883\n",
       "              1           11.176471\n",
       "(10, 20]      0           12.932605\n",
       "              1           12.941176\n",
       "(20, 30]      0           49.362477\n",
       "              1           40.000000\n",
       "(30, 40]      0           15.664845\n",
       "              1           20.000000\n",
       "(40, 50]      0            9.653916\n",
       "              1            9.705882\n",
       "(50, 60]      0            4.553734\n",
       "              1            5.000000\n",
       "(60, 70]      0            2.367942\n",
       "              1            0.882353\n",
       "(70, 80]      0            0.728597\n",
       "              1            0.294118\n",
       "dtype: float64"
      ]
     },
     "execution_count": 46,
     "metadata": {},
     "output_type": "execute_result"
    }
   ],
   "source": [
    "# cria a coluna com a faixa etaria\n",
    "df_titanic[\"faixa_etaria\"] = pd.cut(df_titanic.age, range(0,100,10))\n",
    "# calcula o percentual de sobrevivencia por faixa etaria\n",
    "df_titanic.groupby([\"faixa_etaria\", \"survived\"]).size() * 100/df_titanic.groupby(\"survived\").size()"
   ]
  },
  {
   "cell_type": "markdown",
   "metadata": {},
   "source": [
    "<p>O gênero do passageiro teve influência na sua taxa de sobrevivência?</p>"
   ]
  },
  {
   "cell_type": "code",
   "execution_count": 62,
   "metadata": {},
   "outputs": [
    {
     "data": {
      "image/png": "[encoded data removed]",
      "text/plain": [
       "<Figure size 432x288 with 1 Axes>"
      ]
     },
     "metadata": {
      "needs_background": "light"
     },
     "output_type": "display_data"
    }
   ],
   "source": [
    "ax = df_titanic.groupby(['sex', 'survived']).size().unstack().plot.bar(title='Gráfico de Barras - Gênero / Sobrevivência', \n",
    "                                                                       legend=True);\n",
    "ax.set_xlabel(\"Gênero / Sobrevivência\");\n",
    "ax.set_ylabel(\"Frequência\");"
   ]
  },
  {
   "cell_type": "markdown",
   "metadata": {},
   "source": [
    "<p>A classe social do passageiro teve influência na sua taxa de sobrevivência?</p>"
   ]
  },
  {
   "cell_type": "code",
   "execution_count": 65,
   "metadata": {},
   "outputs": [
    {
     "data": {
      "image/png": "[encoded data removed]",
      "text/plain": [
       "<Figure size 432x288 with 1 Axes>"
      ]
     },
     "metadata": {
      "needs_background": "light"
     },
     "output_type": "display_data"
    }
   ],
   "source": [
    "ax = df_titanic.groupby(['pclass', 'survived']).size().unstack().plot.bar(title='Gráfico de Barras - Classe Social / Sobrevivência', \n",
    "                                                                       legend=True);\n",
    "\n",
    "ax.set_xlabel(\"Classe Social / Sobrevivência\");\n",
    "ax.set_ylabel(\"Frequência\");"
   ]
  },
  {
   "cell_type": "markdown",
   "metadata": {},
   "source": [
    "<p>O porto de embarcação do passageiro teve influência na sua taxa de sobrevivência?</p>"
   ]
  },
  {
   "cell_type": "code",
   "execution_count": 66,
   "metadata": {},
   "outputs": [
    {
     "data": {
      "image/png": "[encoded data removed]",
      "text/plain": [
       "<Figure size 432x288 with 1 Axes>"
      ]
     },
     "metadata": {
      "needs_background": "light"
     },
     "output_type": "display_data"
    }
   ],
   "source": [
    "ax = df_titanic.groupby(['embarked', 'survived']).size().unstack().plot.bar(title='Gráfico de Barras - Porto de Embarcação / Sobrevivência', \n",
    "                                                                       legend=True);\n",
    "ax.set_xlabel(\"Porto de Embarcação / Sobrevivência\");\n",
    "ax.set_ylabel(\"Frequência\");"
   ]
  },
  {
   "cell_type": "markdown",
   "metadata": {},
   "source": [
    "<h2><a name=\"sexto\">4. Conclusão</a></h2>\n",
    "<p>As variváveis <strong>idade</strong>, <strong>gênero</strong>, <strong>classe social</strong> e <strong>porto de embarque</strong> foram analisadas, observa-se então que</p>\n",
    "<ul>\n",
    "    <li>A idade inferior a 20 e superior a 30~35 anos determina a sobrevivência do individuo</li>\n",
    "    <li>Houve maior sobreviventes do genero masculino</li>\n",
    "    <li>A sobrevivência entre o gênero masculino se deu pelo maior número de homens contabilizando crianças e idosos</li>\n",
    "    <li>Houve maior sobreviventes da classe social média e baixa</li>\n",
    "    <li>Houve maior sobreviventes que embarcaram em <i>Queenstown</i> e <i>Southampton</i></li>\n",
    "    <li>Houve maior sobreviventes que embarcaram <i>Southampton</i> se comparados aos outros locais de embarcação</li>\n",
    "    </ul>\n",
    "<p>A partir dos apontamentos acima os seguintes vieses foram analisados</p>\n",
    "<ul>\n",
    "    <li>Quais são as consequências de ter valores ausentes? <br/> Depende do tratamento que será dado para estes valores, em alguns casos a ausência pode ser contornado com a substituição estatisca do valor em outros casos somente um \"recorte\" dos dados pode ser utilziado, no entanto, independente da técnica utilizada os resultados podem ser um pouco distantes do real</li>\n",
    "    <li>Quanto você confia nos resultados sem utilizar testes estatísticos?<br/> Nem um pouco, a intenção de usar métodos estatísticos é conseguir fazer uma análise mais aproximada do real e menos intuitiva</li>\n",
    "<li>O barco tinha uns 1300 passageiros mais a tripulação. Mais este arquivo csv só tem 891 passageiros? Como isso pode afetar a análise?<br/> Pode trazer variação nos dados, principalmente porque os demais registros podem ter informações que se analisadas da mesma maneira que feito até aqui resultariam em informações completamente diferente</li>\n",
    "    </ul>"
   ]
  },
  {
   "cell_type": "code",
   "execution_count": null,
   "metadata": {},
   "outputs": [],
   "source": []
  }
 ],
 "metadata": {
  "kernelspec": {
   "display_name": "Python 3",
   "language": "python",
   "name": "python3"
  },
  "language_info": {
   "codemirror_mode": {
    "name": "ipython",
    "version": 3
   },
   "file_extension": ".py",
   "mimetype": "text/x-python",
   "name": "python",
   "nbconvert_exporter": "python",
   "pygments_lexer": "ipython3",
   "version": "3.7.2"
  }
 },
 "nbformat": 4,
 "nbformat_minor": 2
}
